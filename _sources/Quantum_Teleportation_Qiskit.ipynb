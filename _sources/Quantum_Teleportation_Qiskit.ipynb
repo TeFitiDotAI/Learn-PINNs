{
 "cells": [
  {
   "cell_type": "markdown",
   "id": "98ff9bd9",
   "metadata": {},
   "source": [
    "# Quantum Teleportation Qiskit\n",
    "\n",
    "Quantum teleportation demo using Qiskit with circuit diagrams and simulation."
   ]
  },
  {
   "cell_type": "code",
   "execution_count": null,
   "id": "49d7034f",
   "metadata": {},
   "outputs": [],
   "source": [
    "# Your simulation code will go here.\n",
    "print('Hello Quantum & PINNs World!')"
   ]
  }
 ],
 "metadata": {},
 "nbformat": 4,
 "nbformat_minor": 5
}